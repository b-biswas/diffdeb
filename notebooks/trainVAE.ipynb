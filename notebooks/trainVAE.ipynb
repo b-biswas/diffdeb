{
 "cells": [
  {
   "cell_type": "code",
   "execution_count": 1,
   "id": "3c6c66ac-10b7-46a2-8eb8-abcb1f48ce03",
   "metadata": {},
   "outputs": [
    {
     "name": "stderr",
     "output_type": "stream",
     "text": [
      "2023-12-30 11:47:17.025497: E external/local_xla/xla/stream_executor/cuda/cuda_dnn.cc:9261] Unable to register cuDNN factory: Attempting to register factory for plugin cuDNN when one has already been registered\n",
      "2023-12-30 11:47:17.025562: E external/local_xla/xla/stream_executor/cuda/cuda_fft.cc:607] Unable to register cuFFT factory: Attempting to register factory for plugin cuFFT when one has already been registered\n",
      "2023-12-30 11:47:17.027420: E external/local_xla/xla/stream_executor/cuda/cuda_blas.cc:1515] Unable to register cuBLAS factory: Attempting to register factory for plugin cuBLAS when one has already been registered\n",
      "2023-12-30 11:47:19.945166: W tensorflow/compiler/tf2tensorrt/utils/py_utils.cc:38] TF-TRT Warning: Could not find TensorRT\n"
     ]
    }
   ],
   "source": [
    "import jax\n",
    "import jax.numpy as jnp\n",
    "import os\n",
    "from jax import random\n",
    "\n",
    "from diffdeb.models import VAE\n",
    "\n",
    "import tensorflow_datasets as tfds\n",
    "from diffdeb.dataset import batched_CATSIMDataset\n",
    "\n",
    "from diffdeb.train import train_and_evaluate_vae\n"
   ]
  },
  {
   "cell_type": "code",
   "execution_count": 2,
   "id": "368dbec1-2b08-4849-b399-02ebf6c036f7",
   "metadata": {},
   "outputs": [
    {
     "data": {
      "text/plain": [
       "[45, 45, 6]"
      ]
     },
     "execution_count": 2,
     "metadata": {},
     "output_type": "execute_result"
    }
   ],
   "source": [
    "input_shape=[45, 45, 6]\n",
    "input_shape[:]"
   ]
  },
  {
   "cell_type": "code",
   "execution_count": null,
   "id": "aa4a1793-97df-452a-838e-5d4535b28cb6",
   "metadata": {},
   "outputs": [],
   "source": []
  },
  {
   "cell_type": "code",
   "execution_count": 3,
   "id": "ef6d4968-febf-40e3-b609-133dcca77dc5",
   "metadata": {},
   "outputs": [],
   "source": [
    "model = VAE(\n",
    "    latent_dim=16, \n",
    "    filters=[10, 10, 10, 10], \n",
    "    kernels=[3, 3, 3, 3], \n",
    "    dense_layer_units=10, \n",
    "    input_shape=[45, 45, 6],\n",
    ")"
   ]
  },
  {
   "cell_type": "code",
   "execution_count": 4,
   "id": "96189e59-f2c9-494b-9740-7b2680f504bd",
   "metadata": {},
   "outputs": [
    {
     "name": "stdout",
     "output_type": "stream",
     "text": [
      "(32, 48, 48, 6)\n",
      "(32, 45, 45, 6)\n",
      "(32, 48, 48, 6)\n",
      "(32, 45, 45, 6)\n"
     ]
    }
   ],
   "source": [
    "batch = jnp.ones((32, 45, 45, 6))\n",
    "variables = model.init(jax.random.key(0), batch, jax.random.key(1))\n",
    "output = model.apply(variables, batch, jax.random.key(9))"
   ]
  },
  {
   "cell_type": "code",
   "execution_count": 5,
   "id": "fff7aaab-2311-4203-8ba7-08f7cb718bd4",
   "metadata": {},
   "outputs": [
    {
     "data": {
      "text/plain": [
       "(32, 45, 45, 6)"
      ]
     },
     "execution_count": 5,
     "metadata": {},
     "output_type": "execute_result"
    }
   ],
   "source": [
    "output[0].shape"
   ]
  },
  {
   "cell_type": "code",
   "execution_count": null,
   "id": "f7023af1-9303-4d8e-bc5e-48f46ae63f67",
   "metadata": {},
   "outputs": [],
   "source": []
  },
  {
   "cell_type": "code",
   "execution_count": 6,
   "id": "046f3d8d-baa3-4b3e-8c38-c4552de9b634",
   "metadata": {},
   "outputs": [],
   "source": [
    "linear_norm_coeff = 10000\n",
    "batch_size = 32"
   ]
  },
  {
   "cell_type": "code",
   "execution_count": 7,
   "id": "398f6699-8f83-42bd-af45-294ce8c8cb60",
   "metadata": {},
   "outputs": [
    {
     "name": "stderr",
     "output_type": "stream",
     "text": [
      "WARNING:absl:You use TensorFlow DType <dtype: 'float32'> in tfds.features This will soon be deprecated in favor of NumPy DTypes. In the meantime it was converted to float32.\n"
     ]
    }
   ],
   "source": [
    "ds_isolated_train, ds_isolated_val = batched_CATSIMDataset(\n",
    "    tf_dataset_dir=os.path.join(\n",
    "        \"/sps/lsst/users/bbiswas/simulations/LSST/\",\n",
    "        \"isolated_tfDataset\",\n",
    "    ),\n",
    "    linear_norm_coeff=linear_norm_coeff,\n",
    "    batch_size=batch_size,\n",
    "    x_col_name=\"blended_gal_stamps\",\n",
    "    y_col_name=\"isolated_gal_stamps\",\n",
    ")\n",
    "ds_isolated_val = ds_isolated_val.as_numpy_iterator()\n",
    "ds_isolated_train = ds_isolated_train.as_numpy_iterator()"
   ]
  },
  {
   "cell_type": "code",
   "execution_count": null,
   "id": "19a3bef1-0546-4424-a728-fa4a9ec30c5d",
   "metadata": {},
   "outputs": [],
   "source": []
  },
  {
   "cell_type": "code",
   "execution_count": 10,
   "id": "f1fb8b72-c40a-4700-9e61-73b8d880a082",
   "metadata": {},
   "outputs": [
    {
     "name": "stdout",
     "output_type": "stream",
     "text": [
      "(32, 48, 48, 6)\n",
      "(32, 45, 45, 6)\n",
      "(32, 48, 48, 6)\n",
      "(32, 45, 45, 6)\n",
      "(32, 48, 48, 6)\n",
      "(32, 45, 45, 6)\n",
      "(32, 48, 48, 6)\n",
      "(32, 45, 45, 6)\n",
      "(32, 48, 48, 6)\n",
      "(32, 45, 45, 6)\n",
      "(32, 48, 48, 6)\n",
      "(32, 45, 45, 6)\n",
      "(32, 48, 48, 6)\n",
      "(32, 45, 45, 6)\n",
      "(32, 48, 48, 6)\n",
      "(32, 45, 45, 6)\n",
      "(32, 48, 48, 6)\n",
      "(32, 45, 45, 6)\n",
      "(32, 48, 48, 6)\n",
      "(32, 45, 45, 6)\n",
      "(32, 48, 48, 6)\n",
      "(32, 45, 45, 6)\n",
      "(32, 48, 48, 6)\n",
      "(32, 45, 45, 6)\n",
      "(32, 48, 48, 6)\n",
      "(32, 45, 45, 6)\n",
      "eval epoch: 1, loss: 0.3734, MSE: 0.3640, KLD: 0.0095\n",
      "(32, 48, 48, 6)\n",
      "(32, 45, 45, 6)\n",
      "(32, 48, 48, 6)\n",
      "(32, 45, 45, 6)\n",
      "(32, 48, 48, 6)\n",
      "(32, 45, 45, 6)\n",
      "(32, 48, 48, 6)\n",
      "(32, 45, 45, 6)\n",
      "(32, 48, 48, 6)\n",
      "(32, 45, 45, 6)\n",
      "(32, 48, 48, 6)\n",
      "(32, 45, 45, 6)\n",
      "(32, 48, 48, 6)\n",
      "(32, 45, 45, 6)\n",
      "(32, 48, 48, 6)\n",
      "(32, 45, 45, 6)\n",
      "(32, 48, 48, 6)\n",
      "(32, 45, 45, 6)\n",
      "(32, 48, 48, 6)\n",
      "(32, 45, 45, 6)\n",
      "(32, 48, 48, 6)\n",
      "(32, 45, 45, 6)\n",
      "(32, 48, 48, 6)\n",
      "(32, 45, 45, 6)\n",
      "eval epoch: 2, loss: 0.0151, MSE: 0.0147, KLD: 0.0004\n",
      "(32, 48, 48, 6)\n",
      "(32, 45, 45, 6)\n",
      "(32, 48, 48, 6)\n",
      "(32, 45, 45, 6)\n",
      "(32, 48, 48, 6)\n",
      "(32, 45, 45, 6)\n",
      "(32, 48, 48, 6)\n",
      "(32, 45, 45, 6)\n",
      "(32, 48, 48, 6)\n",
      "(32, 45, 45, 6)\n",
      "(32, 48, 48, 6)\n",
      "(32, 45, 45, 6)\n",
      "(32, 48, 48, 6)\n",
      "(32, 45, 45, 6)\n",
      "(32, 48, 48, 6)\n",
      "(32, 45, 45, 6)\n",
      "(32, 48, 48, 6)\n",
      "(32, 45, 45, 6)\n",
      "(32, 48, 48, 6)\n",
      "(32, 45, 45, 6)\n",
      "(32, 48, 48, 6)\n",
      "(32, 45, 45, 6)\n",
      "(32, 48, 48, 6)\n",
      "(32, 45, 45, 6)\n",
      "eval epoch: 3, loss: 0.2964, MSE: 0.2930, KLD: 0.0034\n",
      "(32, 48, 48, 6)\n",
      "(32, 45, 45, 6)\n",
      "(32, 48, 48, 6)\n",
      "(32, 45, 45, 6)\n",
      "(32, 48, 48, 6)\n",
      "(32, 45, 45, 6)\n",
      "(32, 48, 48, 6)\n",
      "(32, 45, 45, 6)\n",
      "(32, 48, 48, 6)\n",
      "(32, 45, 45, 6)\n",
      "(32, 48, 48, 6)\n",
      "(32, 45, 45, 6)\n",
      "(32, 48, 48, 6)\n",
      "(32, 45, 45, 6)\n",
      "(32, 48, 48, 6)\n",
      "(32, 45, 45, 6)\n",
      "(32, 48, 48, 6)\n",
      "(32, 45, 45, 6)\n",
      "(32, 48, 48, 6)\n",
      "(32, 45, 45, 6)\n",
      "(32, 48, 48, 6)\n",
      "(32, 45, 45, 6)\n",
      "(32, 48, 48, 6)\n",
      "(32, 45, 45, 6)\n",
      "eval epoch: 4, loss: 0.0024, MSE: 0.0024, KLD: 0.0000\n",
      "(32, 48, 48, 6)\n",
      "(32, 45, 45, 6)\n",
      "(32, 48, 48, 6)\n",
      "(32, 45, 45, 6)\n",
      "(32, 48, 48, 6)\n",
      "(32, 45, 45, 6)\n",
      "(32, 48, 48, 6)\n",
      "(32, 45, 45, 6)\n",
      "(32, 48, 48, 6)\n",
      "(32, 45, 45, 6)\n",
      "(32, 48, 48, 6)\n",
      "(32, 45, 45, 6)\n",
      "(32, 48, 48, 6)\n",
      "(32, 45, 45, 6)\n",
      "(32, 48, 48, 6)\n",
      "(32, 45, 45, 6)\n",
      "(32, 48, 48, 6)\n",
      "(32, 45, 45, 6)\n",
      "(32, 48, 48, 6)\n",
      "(32, 45, 45, 6)\n",
      "(32, 48, 48, 6)\n",
      "(32, 45, 45, 6)\n",
      "(32, 48, 48, 6)\n",
      "(32, 45, 45, 6)\n",
      "eval epoch: 5, loss: 0.0042, MSE: 0.0042, KLD: 0.0000\n"
     ]
    }
   ],
   "source": [
    "train_and_evaluate_vae(\n",
    "    train_ds=ds_isolated_train, \n",
    "    val_ds=ds_isolated_val,\n",
    "    num_epochs=5,\n",
    "    steps_per_epoch_train=10,\n",
    "    steps_per_epoch_val=5,\n",
    ")"
   ]
  },
  {
   "cell_type": "code",
   "execution_count": null,
   "id": "a2d0c03a-0ac6-48e4-9cb5-a98c755bdb70",
   "metadata": {},
   "outputs": [],
   "source": []
  }
 ],
 "metadata": {
  "kernelspec": {
   "display_name": "diffdeb",
   "language": "python",
   "name": "diffdeb"
  },
  "language_info": {
   "codemirror_mode": {
    "name": "ipython",
    "version": 3
   },
   "file_extension": ".py",
   "mimetype": "text/x-python",
   "name": "python",
   "nbconvert_exporter": "python",
   "pygments_lexer": "ipython3",
   "version": "3.10.0"
  }
 },
 "nbformat": 4,
 "nbformat_minor": 5
}
