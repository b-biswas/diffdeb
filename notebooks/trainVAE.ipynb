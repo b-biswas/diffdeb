{
 "cells": [
  {
   "cell_type": "code",
   "execution_count": null,
   "id": "3c6c66ac-10b7-46a2-8eb8-abcb1f48ce03",
   "metadata": {},
   "outputs": [
    {
     "name": "stderr",
     "output_type": "stream",
     "text": [
      "2024-01-03 00:07:44.360665: E external/local_xla/xla/stream_executor/cuda/cuda_dnn.cc:9261] Unable to register cuDNN factory: Attempting to register factory for plugin cuDNN when one has already been registered\n",
      "2024-01-03 00:07:44.360744: E external/local_xla/xla/stream_executor/cuda/cuda_fft.cc:607] Unable to register cuFFT factory: Attempting to register factory for plugin cuFFT when one has already been registered\n",
      "2024-01-03 00:07:44.364858: E external/local_xla/xla/stream_executor/cuda/cuda_blas.cc:1515] Unable to register cuBLAS factory: Attempting to register factory for plugin cuBLAS when one has already been registered\n",
      "2024-01-03 00:07:49.053309: W tensorflow/compiler/tf2tensorrt/utils/py_utils.cc:38] TF-TRT Warning: Could not find TensorRT\n"
     ]
    }
   ],
   "source": [
    "import os\n",
    "\n",
    "from diffdeb.config import get_config_vae\n",
    "from diffdeb.dataset import batched_CATSIMDataset\n",
    "from diffdeb.train_vae import train_and_evaluate_vae"
   ]
  },
  {
   "cell_type": "code",
   "execution_count": null,
   "id": "f7023af1-9303-4d8e-bc5e-48f46ae63f67",
   "metadata": {},
   "outputs": [],
   "source": [
    "config = get_config_vae()"
   ]
  },
  {
   "cell_type": "code",
   "execution_count": null,
   "id": "046f3d8d-baa3-4b3e-8c38-c4552de9b634",
   "metadata": {},
   "outputs": [],
   "source": [
    "linear_norm_coeff = 10000\n",
    "batch_size = 32"
   ]
  },
  {
   "cell_type": "code",
   "execution_count": null,
   "id": "398f6699-8f83-42bd-af45-294ce8c8cb60",
   "metadata": {},
   "outputs": [
    {
     "name": "stderr",
     "output_type": "stream",
     "text": [
      "WARNING:absl:You use TensorFlow DType <dtype: 'float32'> in tfds.features This will soon be deprecated in favor of NumPy DTypes. In the meantime it was converted to float32.\n",
      "INFO:absl:Load dataset info from /sps/lsst/users/bbiswas/simulations/LSST/isolated_tfDataset/catsim_dataset/1.0.0\n",
      "INFO:absl:For 'catsim_dataset/1.0.0': fields info.[module_name] differ on disk and in the code. Keeping the one from code.\n",
      "INFO:absl:Reusing dataset catsim_dataset (/sps/lsst/users/bbiswas/simulations/LSST/isolated_tfDataset/catsim_dataset/1.0.0)\n",
      "INFO:absl:Creating a tf.data.Dataset reading 128 files located in folders: /sps/lsst/users/bbiswas/simulations/LSST/isolated_tfDataset/catsim_dataset/1.0.0.\n",
      "INFO:absl:Creating a tf.data.Dataset reading 64 files located in folders: /sps/lsst/users/bbiswas/simulations/LSST/isolated_tfDataset/catsim_dataset/1.0.0.\n",
      "INFO:absl:Constructing tf.data.Dataset catsim_dataset for split None, from /sps/lsst/users/bbiswas/simulations/LSST/isolated_tfDataset/catsim_dataset/1.0.0\n"
     ]
    }
   ],
   "source": [
    "ds_isolated_train, ds_isolated_val = batched_CATSIMDataset(\n",
    "    tf_dataset_dir=os.path.join(\n",
    "        \"/sps/lsst/users/bbiswas/simulations/LSST/\",\n",
    "        \"isolated_tfDataset\",\n",
    "    ),\n",
    "    linear_norm_coeff=config.linear_norm_coeff,\n",
    "    batch_size=config.batch_size,\n",
    "    x_col_name=\"blended_gal_stamps\",\n",
    "    y_col_name=\"isolated_gal_stamps\",\n",
    ")"
   ]
  },
  {
   "cell_type": "code",
   "execution_count": null,
   "id": "19a3bef1-0546-4424-a728-fa4a9ec30c5d",
   "metadata": {},
   "outputs": [],
   "source": []
  },
  {
   "cell_type": "code",
   "execution_count": null,
   "id": "f1fb8b72-c40a-4700-9e61-73b8d880a082",
   "metadata": {},
   "outputs": [
    {
     "name": "stderr",
     "output_type": "stream",
     "text": [
      "INFO:root:Initializing model.\n",
      "INFO:root:Training started...\n"
     ]
    }
   ],
   "source": [
    "train_and_evaluate_vae(\n",
    "    train_tfds=ds_isolated_train,\n",
    "    val_tfds=ds_isolated_val,\n",
    "    config=config,\n",
    ")"
   ]
  },
  {
   "cell_type": "code",
   "execution_count": null,
   "id": "a2d0c03a-0ac6-48e4-9cb5-a98c755bdb70",
   "metadata": {},
   "outputs": [],
   "source": []
  },
  {
   "cell_type": "code",
   "execution_count": null,
   "id": "3139c520-230b-4084-bf34-479b38be7399",
   "metadata": {},
   "outputs": [],
   "source": []
  }
 ],
 "metadata": {
  "kernelspec": {
   "display_name": "diffdeb",
   "language": "python",
   "name": "diffdeb"
  },
  "language_info": {
   "codemirror_mode": {
    "name": "ipython",
    "version": 3
   },
   "file_extension": ".py",
   "mimetype": "text/x-python",
   "name": "python",
   "nbconvert_exporter": "python",
   "pygments_lexer": "ipython3",
   "version": "3.11.0"
  }
 },
 "nbformat": 4,
 "nbformat_minor": 5
}
