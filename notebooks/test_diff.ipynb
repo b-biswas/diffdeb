{
 "cells": [
  {
   "cell_type": "code",
   "execution_count": null,
   "id": "85977b42-0dfc-4031-ba24-8d81a3a94df0",
   "metadata": {},
   "outputs": [
    {
     "name": "stderr",
     "output_type": "stream",
     "text": [
      "2024-01-17 14:28:24.171754: E external/local_xla/xla/stream_executor/cuda/cuda_dnn.cc:9261] Unable to register cuDNN factory: Attempting to register factory for plugin cuDNN when one has already been registered\n",
      "2024-01-17 14:28:24.171855: E external/local_xla/xla/stream_executor/cuda/cuda_fft.cc:607] Unable to register cuFFT factory: Attempting to register factory for plugin cuFFT when one has already been registered\n",
      "2024-01-17 14:28:24.174810: E external/local_xla/xla/stream_executor/cuda/cuda_blas.cc:1515] Unable to register cuBLAS factory: Attempting to register factory for plugin cuBLAS when one has already been registered\n",
      "2024-01-17 14:28:27.641870: W tensorflow/compiler/tf2tensorrt/utils/py_utils.cc:38] TF-TRT Warning: Could not find TensorRT\n"
     ]
    }
   ],
   "source": [
    "import os\n",
    "\n",
    "import jax.numpy as jnp\n",
    "import matplotlib.pyplot as plt\n",
    "from jax import random\n",
    "\n",
    "from diffdeb.config import get_config_LDM\n",
    "from diffdeb.dataset import batched_CATSIMDataset\n",
    "from diffdeb.diffusion import diffusion_coeff, forward_SED_noising, marginal_prob_std\n",
    "from diffdeb.load_weights import load_model_weights\n",
    "from diffdeb.models import Decoder, UNet\n",
    "from diffdeb.sampler import Euler_Maruyama_sampler\n",
    "from diffdeb.train_LDM import get_latent_images\n",
    "\n",
    "# from diffrax import diffeqsolve, ControlTerm, Euler, MultiTerm, ODETerm, SaveAt, VirtualBrownianTree, ReversibleHeun, PIDController\n",
    "# from flax.training import orbax_utils"
   ]
  },
  {
   "cell_type": "code",
   "execution_count": null,
   "id": "5ffd23ed-53b0-44d2-95a3-7d96ed9259d5",
   "metadata": {},
   "outputs": [],
   "source": [
    "rng = random.key(42)\n",
    "config = get_config_LDM()"
   ]
  },
  {
   "cell_type": "code",
   "execution_count": null,
   "id": "685ae096-1bbb-4f14-8ec0-cbce18f55200",
   "metadata": {},
   "outputs": [],
   "source": [
    "Encoder_model = Decoder(\n",
    "    input_shape=config.vae_config.input_shape,\n",
    "    latent_dim=config.vae_config.latent_dim,\n",
    "    filters=config.vae_config.decoder_filters,\n",
    "    kernels=config.vae_config.decoder_kernels,\n",
    "    dense_layer_units=config.vae_config.dense_layer_units,\n",
    ")\n",
    "decoder_model = Decoder(\n",
    "    input_shape=config.vae_config.input_shape,\n",
    "    latent_dim=config.vae_config.latent_dim,\n",
    "    filters=config.vae_config.decoder_filters,\n",
    "    kernels=config.vae_config.decoder_kernels,\n",
    "    dense_layer_units=config.vae_config.dense_layer_units,\n",
    ")\n",
    "rng, key = random.split(rng)\n",
    "UNet_model = UNet().init(key, (jnp.ones((1, 6, 6, 1)), jnp.ones(1)))"
   ]
  },
  {
   "cell_type": "code",
   "execution_count": null,
   "id": "e3219b43-f8c3-413c-acc4-8ba4f8668767",
   "metadata": {},
   "outputs": [
    {
     "name": "stderr",
     "output_type": "stream",
     "text": [
      "INFO:absl:Restoring item from /pbs/throng/lsst/users/bbiswas/DiffDeblender/diffdeb/data/vae/29/default.\n",
      "INFO:absl:Finished restoring checkpoint from /pbs/throng/lsst/users/bbiswas/DiffDeblender/diffdeb/data/vae/29/default.\n",
      "INFO:absl:Restoring item from /pbs/throng/lsst/users/bbiswas/DiffDeblender/diffdeb/data/vae/29/default.\n",
      "INFO:absl:Finished restoring checkpoint from /pbs/throng/lsst/users/bbiswas/DiffDeblender/diffdeb/data/vae/29/default.\n"
     ]
    }
   ],
   "source": [
    "decoder_params = load_model_weights(config.vae_config)[\"decoder\"]\n",
    "encoder_params = load_model_weights(config.vae_config)[\"encoder\"]"
   ]
  },
  {
   "cell_type": "code",
   "execution_count": null,
   "id": "d1aecd36-4fcb-4142-bc42-d888c8306f26",
   "metadata": {},
   "outputs": [
    {
     "name": "stderr",
     "output_type": "stream",
     "text": [
      "INFO:absl:Restoring item from /pbs/throng/lsst/users/bbiswas/DiffDeblender/diffdeb/data/UNet/25/default.\n",
      "INFO:absl:Finished restoring checkpoint from /pbs/throng/lsst/users/bbiswas/DiffDeblender/diffdeb/data/UNet/25/default.\n"
     ]
    }
   ],
   "source": [
    "UNet_params = load_model_weights(config.diffusion_config)"
   ]
  },
  {
   "cell_type": "code",
   "execution_count": null,
   "id": "03449ee1-6d1e-48a9-bee3-6ca3dbdff064",
   "metadata": {},
   "outputs": [],
   "source": []
  },
  {
   "cell_type": "markdown",
   "id": "a61f9043-3137-4f29-9cd0-549e26c8a4b9",
   "metadata": {},
   "source": [
    "# Get some initial points (using the dataset for now)"
   ]
  },
  {
   "cell_type": "markdown",
   "id": "f4b0b6d0-6244-4fda-8f2b-a58be9580295",
   "metadata": {},
   "source": [
    "Ideally we want to start completely in noise and get to the data distribution \n",
    "But for now to simplify, adding noise to the data distribution "
   ]
  },
  {
   "cell_type": "markdown",
   "id": "93c8384f-8d40-4e1d-8d7c-10a1cf7b014d",
   "metadata": {},
   "source": [
    "### Load dataset"
   ]
  },
  {
   "cell_type": "code",
   "execution_count": null,
   "id": "78a92e3e-2359-4c17-9134-3769c1bafa94",
   "metadata": {},
   "outputs": [
    {
     "name": "stderr",
     "output_type": "stream",
     "text": [
      "INFO:absl:Load dataset info from /sps/lsst/users/bbiswas/simulations/LSST/isolated_tfDataset/catsim_dataset/1.0.0\n",
      "INFO:absl:For 'catsim_dataset/1.0.0': fields info.[module_name] differ on disk and in the code. Keeping the one from code.\n",
      "INFO:absl:Reusing dataset catsim_dataset (/sps/lsst/users/bbiswas/simulations/LSST/isolated_tfDataset/catsim_dataset/1.0.0)\n",
      "INFO:absl:Creating a tf.data.Dataset reading 128 files located in folders: /sps/lsst/users/bbiswas/simulations/LSST/isolated_tfDataset/catsim_dataset/1.0.0.\n",
      "INFO:absl:Creating a tf.data.Dataset reading 64 files located in folders: /sps/lsst/users/bbiswas/simulations/LSST/isolated_tfDataset/catsim_dataset/1.0.0.\n",
      "INFO:absl:Constructing tf.data.Dataset catsim_dataset for split None, from /sps/lsst/users/bbiswas/simulations/LSST/isolated_tfDataset/catsim_dataset/1.0.0\n"
     ]
    }
   ],
   "source": [
    "ds_isolated_train, ds_isolated_val = batched_CATSIMDataset(\n",
    "    tf_dataset_dir=os.path.join(\n",
    "        \"/sps/lsst/users/bbiswas/simulations/LSST/\",\n",
    "        \"isolated_tfDataset\",\n",
    "    ),\n",
    "    linear_norm_coeff=config.vae_config.linear_norm_coeff,\n",
    "    batch_size=config.vae_config.batch_size,\n",
    "    x_col_name=\"blended_gal_stamps\",\n",
    "    y_col_name=\"isolated_gal_stamps\",\n",
    ")\n",
    "\n",
    "ds_isolated_train = ds_isolated_train.as_numpy_iterator()\n",
    "ds_isolated_val = ds_isolated_val.as_numpy_iterator()"
   ]
  },
  {
   "cell_type": "markdown",
   "id": "4aa82690-a6b0-4be5-bf67-bf47db4150d6",
   "metadata": {},
   "source": [
    "### Latent noisy batch"
   ]
  },
  {
   "cell_type": "code",
   "execution_count": null,
   "id": "744a94b7-4c1e-4534-b3fd-3f2a57174074",
   "metadata": {},
   "outputs": [],
   "source": [
    "batch = next(ds_isolated_val)"
   ]
  },
  {
   "cell_type": "code",
   "execution_count": null,
   "id": "4dda652e-f719-4ad5-b651-95acc64d7c8a",
   "metadata": {},
   "outputs": [],
   "source": [
    "latent_batch = get_latent_images(\n",
    "    params=encoder_params,\n",
    "    batch=batch[0],\n",
    "    z_rng=key,\n",
    "    latent_dim=config.vae_config.latent_dim,\n",
    "    encoder_filters=config.vae_config.encoder_filters,\n",
    "    encoder_kernels=config.vae_config.encoder_kernels,\n",
    "    dense_layer_units=config.vae_config.dense_layer_units,\n",
    ")"
   ]
  },
  {
   "cell_type": "code",
   "execution_count": null,
   "id": "eb0e28a2-fd1e-4162-aac3-c478afe58426",
   "metadata": {
    "tags": []
   },
   "outputs": [
    {
     "data": {
      "text/plain": [
       "(100, 12, 12, 1)"
      ]
     },
     "execution_count": null,
     "metadata": {},
     "output_type": "execute_result"
    }
   ],
   "source": [
    "latent_batch.shape"
   ]
  },
  {
   "cell_type": "code",
   "execution_count": null,
   "id": "d4e0d085-907c-4d5b-a1e9-9c6ed23c99f9",
   "metadata": {},
   "outputs": [],
   "source": [
    "rng, key = random.split(rng)\n",
    "noisy_images, noise, std = forward_SED_noising(\n",
    "    key,\n",
    "    latent_batch,\n",
    "    exp_constant=config.exp_constant,\n",
    "    t=jnp.ones(config.vae_config.batch_size)\n",
    "    * config.t_max_val,  # max value of time (and hence the noise) that the NN was trained on.\n",
    ")"
   ]
  },
  {
   "cell_type": "markdown",
   "id": "324a9cd7-32f7-44ac-8f57-cbdd0d2af281",
   "metadata": {},
   "source": [
    "# What do the noisy images look like?\n",
    "Note that the Gaussian Noise is added only to the latent space"
   ]
  },
  {
   "cell_type": "code",
   "execution_count": null,
   "id": "4343ea91-b991-450b-a5ec-655deca99b5d",
   "metadata": {},
   "outputs": [],
   "source": [
    "im_noisy = decoder_model.apply({\"params\": decoder_params}, noisy_images)"
   ]
  },
  {
   "cell_type": "code",
   "execution_count": null,
   "id": "7fe42609-05b8-4011-a319-182dd479f22d",
   "metadata": {},
   "outputs": [
    {
     "data": {
      "text/plain": [
       "<matplotlib.image.AxesImage at 0x7fe3dde26f50>"
      ]
     },
     "execution_count": null,
     "metadata": {},
     "output_type": "execute_result"
    },
    {
     "data": {
      "image/png": "[encoded data removed]",
      "text/plain": [
       "<Figure size 640x480 with 1 Axes>"
      ]
     },
     "metadata": {},
     "output_type": "display_data"
    }
   ],
   "source": [
    "plt.imshow(im_noisy[4, :, :, 2])"
   ]
  },
  {
   "cell_type": "markdown",
   "id": "91a5c48d-28fa-4669-b4af-7f65cda9c025",
   "metadata": {},
   "source": [
    "### Run Diffusion"
   ]
  },
  {
   "cell_type": "code",
   "execution_count": null,
   "id": "8f12c734-bbfa-4d58-b7a4-1c1ecd28c970",
   "metadata": {},
   "outputs": [],
   "source": [
    "# The number of sampling steps.\n",
    "num_steps = 1000  # @param {'type':'integer'}\n",
    "exp_constant = config.exp_constant"
   ]
  },
  {
   "cell_type": "code",
   "execution_count": null,
   "id": "89ed0b5b-20f6-4db2-b644-7125a2084065",
   "metadata": {
    "tags": []
   },
   "outputs": [
    {
     "name": "stderr",
     "output_type": "stream",
     "text": [
      "100%|██████████| 1000/1000 [00:55<00:00, 18.09it/s]\n"
     ]
    }
   ],
   "source": [
    "samples = Euler_Maruyama_sampler(\n",
    "    rng=rng,\n",
    "    params=UNet_params,\n",
    "    marginal_prob_std=marginal_prob_std,\n",
    "    diffusion_coeff=diffusion_coeff,\n",
    "    start_time=config.t_max_val,\n",
    "    initial_rep=noisy_images,\n",
    "    batch_size=config.vae_config.batch_size,\n",
    "    num_steps=num_steps,\n",
    "    exp_constant=exp_constant,\n",
    "    eps=1e-1,\n",
    ")"
   ]
  },
  {
   "cell_type": "code",
   "execution_count": null,
   "id": "a9e5eb93-9ae6-48d4-9b3e-496008e675e5",
   "metadata": {},
   "outputs": [
    {
     "data": {
      "text/plain": [
       "(100, 12, 12, 1)"
      ]
     },
     "execution_count": null,
     "metadata": {},
     "output_type": "execute_result"
    }
   ],
   "source": [
    "samples.shape"
   ]
  },
  {
   "cell_type": "code",
   "execution_count": null,
   "id": "d76bc4c4-33ed-4057-888b-5b11b631fa30",
   "metadata": {},
   "outputs": [],
   "source": [
    "im = decoder_model.apply({\"params\": decoder_params}, samples)"
   ]
  },
  {
   "cell_type": "code",
   "execution_count": null,
   "id": "7eb0d530-3109-44da-ad45-546d47aec08f",
   "metadata": {},
   "outputs": [
    {
     "data": {
      "text/plain": [
       "<matplotlib.image.AxesImage at 0x7fe3ddea4fd0>"
      ]
     },
     "execution_count": null,
     "metadata": {},
     "output_type": "execute_result"
    },
    {
     "data": {
      "image/png": "[encoded data removed]",
      "text/plain": [
       "<Figure size 640x480 with 1 Axes>"
      ]
     },
     "metadata": {},
     "output_type": "display_data"
    }
   ],
   "source": [
    "plt.imshow(im[4, :, :, 2])"
   ]
  },
  {
   "cell_type": "code",
   "execution_count": null,
   "id": "ba0c9380-85c9-4ed5-af6f-d1deb9f3ed03",
   "metadata": {},
   "outputs": [],
   "source": []
  },
  {
   "cell_type": "code",
   "execution_count": null,
   "id": "2b567e2b-1f0e-4bae-a9ff-90f1b63620e6",
   "metadata": {},
   "outputs": [],
   "source": []
  },
  {
   "cell_type": "code",
   "execution_count": null,
   "id": "bcaf03ff-d4d1-4d8e-a856-8c409bb305b0",
   "metadata": {},
   "outputs": [],
   "source": [
    "# marginal_prob_std(jnp.linspace(.5, 1e-1, num_steps), 25)"
   ]
  },
  {
   "cell_type": "code",
   "execution_count": null,
   "id": "7dadf9fa-f098-4e34-9020-2c6492a73063",
   "metadata": {},
   "outputs": [],
   "source": []
  }
 ],
 "metadata": {
  "kernelspec": {
   "display_name": "diffdeb",
   "language": "python",
   "name": "diffdeb"
  },
  "language_info": {
   "codemirror_mode": {
    "name": "ipython",
    "version": 3
   },
   "file_extension": ".py",
   "mimetype": "text/x-python",
   "name": "python",
   "nbconvert_exporter": "python",
   "pygments_lexer": "ipython3",
   "version": "3.11.0"
  }
 },
 "nbformat": 4,
 "nbformat_minor": 5
}
