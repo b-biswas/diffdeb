{
 "cells": [
  {
   "cell_type": "code",
   "execution_count": 1,
   "id": "3c6c66ac-10b7-46a2-8eb8-abcb1f48ce03",
   "metadata": {},
   "outputs": [
    {
     "name": "stderr",
     "output_type": "stream",
     "text": [
      "2024-01-01 22:59:28.993599: E external/local_xla/xla/stream_executor/cuda/cuda_dnn.cc:9261] Unable to register cuDNN factory: Attempting to register factory for plugin cuDNN when one has already been registered\n",
      "2024-01-01 22:59:28.993674: E external/local_xla/xla/stream_executor/cuda/cuda_fft.cc:607] Unable to register cuFFT factory: Attempting to register factory for plugin cuFFT when one has already been registered\n",
      "2024-01-01 22:59:28.995605: E external/local_xla/xla/stream_executor/cuda/cuda_blas.cc:1515] Unable to register cuBLAS factory: Attempting to register factory for plugin cuBLAS when one has already been registered\n",
      "2024-01-01 22:59:32.150575: W tensorflow/compiler/tf2tensorrt/utils/py_utils.cc:38] TF-TRT Warning: Could not find TensorRT\n"
     ]
    }
   ],
   "source": [
    "import jax\n",
    "import jax.numpy as jnp\n",
    "import os\n",
    "from jax import random\n",
    "\n",
    "from diffdeb.models import UNet\n",
    "\n",
    "import tensorflow_datasets as tfds\n",
    "from diffdeb.dataset import batched_CATSIMDataset\n",
    "\n",
    "from diffdeb.train import train_and_evaluate_UNet\n",
    "from diffdeb.config import get_config_diffusion"
   ]
  },
  {
   "cell_type": "code",
   "execution_count": 2,
   "id": "368dbec1-2b08-4849-b399-02ebf6c036f7",
   "metadata": {},
   "outputs": [
    {
     "data": {
      "text/plain": [
       "[45, 45, 6]"
      ]
     },
     "execution_count": 2,
     "metadata": {},
     "output_type": "execute_result"
    }
   ],
   "source": [
    "input_shape=[45, 45, 6]\n",
    "input_shape[:]"
   ]
  },
  {
   "cell_type": "code",
   "execution_count": null,
   "id": "aa4a1793-97df-452a-838e-5d4535b28cb6",
   "metadata": {},
   "outputs": [],
   "source": []
  },
  {
   "cell_type": "code",
   "execution_count": 3,
   "id": "f7023af1-9303-4d8e-bc5e-48f46ae63f67",
   "metadata": {},
   "outputs": [],
   "source": [
    "config=get_config_diffusion()"
   ]
  },
  {
   "cell_type": "code",
   "execution_count": 4,
   "id": "398f6699-8f83-42bd-af45-294ce8c8cb60",
   "metadata": {},
   "outputs": [
    {
     "name": "stderr",
     "output_type": "stream",
     "text": [
      "WARNING:absl:You use TensorFlow DType <dtype: 'float32'> in tfds.features This will soon be deprecated in favor of NumPy DTypes. In the meantime it was converted to float32.\n"
     ]
    }
   ],
   "source": [
    "ds_isolated_train, ds_isolated_val = batched_CATSIMDataset(\n",
    "    tf_dataset_dir=os.path.join(\n",
    "        \"/sps/lsst/users/bbiswas/simulations/LSST/\",\n",
    "        \"isolated_tfDataset\",\n",
    "    ),\n",
    "    linear_norm_coeff=config.linear_norm_coeff,\n",
    "    batch_size=config.batch_size,\n",
    "    x_col_name=\"blended_gal_stamps\",\n",
    "    y_col_name=\"isolated_gal_stamps\",\n",
    ")\n",
    "ds_isolated_val = ds_isolated_val.as_numpy_iterator()\n",
    "ds_isolated_train = ds_isolated_train.as_numpy_iterator()"
   ]
  },
  {
   "cell_type": "code",
   "execution_count": null,
   "id": "19a3bef1-0546-4424-a728-fa4a9ec30c5d",
   "metadata": {},
   "outputs": [],
   "source": []
  },
  {
   "cell_type": "code",
   "execution_count": null,
   "id": "a2d0c03a-0ac6-48e4-9cb5-a98c755bdb70",
   "metadata": {},
   "outputs": [
    {
     "name": "stdout",
     "output_type": "stream",
     "text": [
      "Previous minimum validation loss; inf\n",
      "eval epoch: 1, train loss: 3.2680, val loss: 2.6210\n",
      "saving should work\n",
      "Previous minimum validation loss; 2.62099\n",
      "eval epoch: 2, train loss: 2.3355, val loss: 2.0772\n",
      "saving should work\n",
      "Previous minimum validation loss; 2.07725\n",
      "eval epoch: 3, train loss: 1.9488, val loss: 1.7842\n",
      "saving should work\n",
      "Previous minimum validation loss; 1.78417\n",
      "eval epoch: 4, train loss: 1.6319, val loss: 1.8341\n",
      "Previous minimum validation loss; 1.78417\n",
      "eval epoch: 5, train loss: 1.4647, val loss: 1.3921\n",
      "saving should work\n",
      "Previous minimum validation loss; 1.39206\n",
      "eval epoch: 6, train loss: 1.3437, val loss: 1.2529\n",
      "saving should work\n",
      "Previous minimum validation loss; 1.25289\n",
      "eval epoch: 7, train loss: 1.1932, val loss: 1.1864\n",
      "saving should work\n",
      "Previous minimum validation loss; 1.18639\n",
      "eval epoch: 8, train loss: 1.1106, val loss: 1.1060\n",
      "saving should work\n"
     ]
    }
   ],
   "source": [
    "train_and_evaluate_UNet(\n",
    "    train_ds=ds_isolated_train, \n",
    "    val_ds=ds_isolated_val,\n",
    "    config=config,\n",
    ")"
   ]
  },
  {
   "cell_type": "code",
   "execution_count": null,
   "id": "e46071a6-b8ea-4709-a4f3-d2dde1169e6c",
   "metadata": {},
   "outputs": [],
   "source": []
  }
 ],
 "metadata": {
  "kernelspec": {
   "display_name": "diffdeb",
   "language": "python",
   "name": "diffdeb"
  },
  "language_info": {
   "codemirror_mode": {
    "name": "ipython",
    "version": 3
   },
   "file_extension": ".py",
   "mimetype": "text/x-python",
   "name": "python",
   "nbconvert_exporter": "python",
   "pygments_lexer": "ipython3",
   "version": "3.10.0"
  }
 },
 "nbformat": 4,
 "nbformat_minor": 5
}
