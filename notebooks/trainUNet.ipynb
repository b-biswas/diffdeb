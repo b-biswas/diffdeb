{
 "cells": [
  {
   "cell_type": "code",
   "execution_count": 1,
   "id": "3c6c66ac-10b7-46a2-8eb8-abcb1f48ce03",
   "metadata": {},
   "outputs": [
    {
     "name": "stderr",
     "output_type": "stream",
     "text": [
      "2023-12-30 11:23:09.153973: E external/local_xla/xla/stream_executor/cuda/cuda_dnn.cc:9261] Unable to register cuDNN factory: Attempting to register factory for plugin cuDNN when one has already been registered\n",
      "2023-12-30 11:23:09.154039: E external/local_xla/xla/stream_executor/cuda/cuda_fft.cc:607] Unable to register cuFFT factory: Attempting to register factory for plugin cuFFT when one has already been registered\n",
      "2023-12-30 11:23:09.155998: E external/local_xla/xla/stream_executor/cuda/cuda_blas.cc:1515] Unable to register cuBLAS factory: Attempting to register factory for plugin cuBLAS when one has already been registered\n",
      "2023-12-30 11:23:12.199405: W tensorflow/compiler/tf2tensorrt/utils/py_utils.cc:38] TF-TRT Warning: Could not find TensorRT\n"
     ]
    }
   ],
   "source": [
    "import jax\n",
    "import jax.numpy as jnp\n",
    "import os\n",
    "from jax import random\n",
    "\n",
    "from diffdeb.models import UNet\n",
    "\n",
    "import tensorflow_datasets as tfds\n",
    "from diffdeb.dataset import batched_CATSIMDataset\n",
    "\n",
    "from diffdeb.train import train_and_evaluate_UNet"
   ]
  },
  {
   "cell_type": "code",
   "execution_count": 2,
   "id": "368dbec1-2b08-4849-b399-02ebf6c036f7",
   "metadata": {},
   "outputs": [
    {
     "data": {
      "text/plain": [
       "[45, 45, 6]"
      ]
     },
     "execution_count": 2,
     "metadata": {},
     "output_type": "execute_result"
    }
   ],
   "source": [
    "input_shape=[45, 45, 6]\n",
    "input_shape[:]"
   ]
  },
  {
   "cell_type": "code",
   "execution_count": null,
   "id": "aa4a1793-97df-452a-838e-5d4535b28cb6",
   "metadata": {},
   "outputs": [],
   "source": []
  },
  {
   "cell_type": "code",
   "execution_count": 3,
   "id": "ef6d4968-febf-40e3-b609-133dcca77dc5",
   "metadata": {},
   "outputs": [],
   "source": [
    "model = UNet()"
   ]
  },
  {
   "cell_type": "code",
   "execution_count": 4,
   "id": "96189e59-f2c9-494b-9740-7b2680f504bd",
   "metadata": {},
   "outputs": [
    {
     "name": "stdout",
     "output_type": "stream",
     "text": [
      "(2, 48, 48, 6)\n",
      "(2, 48, 48, 4)\n",
      "(2, 8)\n",
      "(2, 48, 48, 8)\n",
      "(2, 48, 48, 8)\n",
      "(2, 8)\n",
      "(2, 48, 48, 8)\n",
      "(2, 48, 48, 8)\n",
      "(2, 16)\n",
      "(2, 24, 24, 16)\n",
      "(2, 24, 24, 16)\n",
      "(2, 16)\n",
      "(2, 24, 24, 16)\n",
      "(2, 24, 24, 16)\n",
      "(2, 32)\n",
      "(2, 12, 12, 32)\n",
      "(2, 12, 12, 32)\n",
      "(2, 32)\n",
      "(2, 12, 12, 32)\n",
      "(2, 12, 12, 32)\n",
      "(2, 64)\n",
      "(2, 6, 6, 64)\n",
      "(2, 6, 6, 64)\n",
      "(2, 64)\n",
      "(2, 6, 6, 64)\n",
      "(2, 6, 6, 64)\n",
      "(2, 64)\n",
      "(2, 6, 6, 64)\n",
      "(2, 64)\n",
      "(2, 6, 6, 64)\n",
      "(2, 64)\n",
      "(2, 6, 6, 64)\n",
      "(2, 64)\n",
      "(2, 6, 6, 64)\n",
      "(2, 32)\n",
      "(2, 12, 12, 32)\n",
      "(2, 32)\n",
      "(2, 12, 12, 32)\n",
      "(2, 16)\n",
      "(2, 24, 24, 16)\n",
      "(2, 16)\n",
      "(2, 24, 24, 16)\n",
      "(2, 8)\n",
      "(2, 48, 48, 8)\n",
      "(2, 8)\n",
      "(2, 48, 48, 8)\n",
      "(2, 8)\n",
      "(2, 48, 48, 8)\n",
      "(2, 48, 48, 6)\n",
      "(2, 48, 48, 4)\n",
      "(2, 8)\n",
      "(2, 48, 48, 8)\n",
      "(2, 48, 48, 8)\n",
      "(2, 8)\n",
      "(2, 48, 48, 8)\n",
      "(2, 48, 48, 8)\n",
      "(2, 16)\n",
      "(2, 24, 24, 16)\n",
      "(2, 24, 24, 16)\n",
      "(2, 16)\n",
      "(2, 24, 24, 16)\n",
      "(2, 24, 24, 16)\n",
      "(2, 32)\n",
      "(2, 12, 12, 32)\n",
      "(2, 12, 12, 32)\n",
      "(2, 32)\n",
      "(2, 12, 12, 32)\n",
      "(2, 12, 12, 32)\n",
      "(2, 64)\n",
      "(2, 6, 6, 64)\n",
      "(2, 6, 6, 64)\n",
      "(2, 64)\n",
      "(2, 6, 6, 64)\n",
      "(2, 6, 6, 64)\n",
      "(2, 64)\n",
      "(2, 6, 6, 64)\n",
      "(2, 64)\n",
      "(2, 6, 6, 64)\n",
      "(2, 64)\n",
      "(2, 6, 6, 64)\n",
      "(2, 64)\n",
      "(2, 6, 6, 64)\n",
      "(2, 32)\n",
      "(2, 12, 12, 32)\n",
      "(2, 32)\n",
      "(2, 12, 12, 32)\n",
      "(2, 16)\n",
      "(2, 24, 24, 16)\n",
      "(2, 16)\n",
      "(2, 24, 24, 16)\n",
      "(2, 8)\n",
      "(2, 48, 48, 8)\n",
      "(2, 8)\n",
      "(2, 48, 48, 8)\n",
      "(2, 8)\n",
      "(2, 48, 48, 8)\n"
     ]
    }
   ],
   "source": [
    "batch = (jnp.ones((2, 45, 45, 6)), jnp.ones((2)))\n",
    "variables = model.init(jax.random.key(0), batch)\n",
    "output = model.apply(variables, batch)"
   ]
  },
  {
   "cell_type": "code",
   "execution_count": 5,
   "id": "fff7aaab-2311-4203-8ba7-08f7cb718bd4",
   "metadata": {},
   "outputs": [
    {
     "data": {
      "text/plain": [
       "(45, 45, 6)"
      ]
     },
     "execution_count": 5,
     "metadata": {},
     "output_type": "execute_result"
    }
   ],
   "source": [
    "output[0].shape"
   ]
  },
  {
   "cell_type": "code",
   "execution_count": null,
   "id": "f7023af1-9303-4d8e-bc5e-48f46ae63f67",
   "metadata": {},
   "outputs": [],
   "source": []
  },
  {
   "cell_type": "code",
   "execution_count": 6,
   "id": "046f3d8d-baa3-4b3e-8c38-c4552de9b634",
   "metadata": {},
   "outputs": [],
   "source": [
    "linear_norm_coeff = 10000\n",
    "batch_size = 32"
   ]
  },
  {
   "cell_type": "code",
   "execution_count": 7,
   "id": "398f6699-8f83-42bd-af45-294ce8c8cb60",
   "metadata": {},
   "outputs": [
    {
     "name": "stderr",
     "output_type": "stream",
     "text": [
      "WARNING:absl:You use TensorFlow DType <dtype: 'float32'> in tfds.features This will soon be deprecated in favor of NumPy DTypes. In the meantime it was converted to float32.\n"
     ]
    }
   ],
   "source": [
    "ds_isolated_train, ds_isolated_val = batched_CATSIMDataset(\n",
    "    tf_dataset_dir=os.path.join(\n",
    "        \"/sps/lsst/users/bbiswas/simulations/LSST/\",\n",
    "        \"isolated_tfDataset\",\n",
    "    ),\n",
    "    linear_norm_coeff=linear_norm_coeff,\n",
    "    batch_size=batch_size,\n",
    "    x_col_name=\"blended_gal_stamps\",\n",
    "    y_col_name=\"isolated_gal_stamps\",\n",
    ")\n",
    "ds_isolated_val = ds_isolated_val.as_numpy_iterator()\n",
    "ds_isolated_train = ds_isolated_train.as_numpy_iterator()"
   ]
  },
  {
   "cell_type": "code",
   "execution_count": null,
   "id": "19a3bef1-0546-4424-a728-fa4a9ec30c5d",
   "metadata": {},
   "outputs": [],
   "source": []
  },
  {
   "cell_type": "code",
   "execution_count": null,
   "id": "a2d0c03a-0ac6-48e4-9cb5-a98c755bdb70",
   "metadata": {},
   "outputs": [],
   "source": []
  }
 ],
 "metadata": {
  "kernelspec": {
   "display_name": "diffdeb",
   "language": "python",
   "name": "diffdeb"
  },
  "language_info": {
   "codemirror_mode": {
    "name": "ipython",
    "version": 3
   },
   "file_extension": ".py",
   "mimetype": "text/x-python",
   "name": "python",
   "nbconvert_exporter": "python",
   "pygments_lexer": "ipython3",
   "version": "3.10.0"
  }
 },
 "nbformat": 4,
 "nbformat_minor": 5
}
